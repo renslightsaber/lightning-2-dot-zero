{
  "nbformat": 4,
  "nbformat_minor": 0,
  "metadata": {
    "colab": {
      "provenance": [],
      "toc_visible": true
    },
    "kernelspec": {
      "name": "python3",
      "display_name": "Python 3"
    },
    "language_info": {
      "name": "python"
    },
    "accelerator": "GPU",
    "gpuClass": "standard"
  },
  "cells": [
    {
      "cell_type": "markdown",
      "source": [
        "## install"
      ],
      "metadata": {
        "id": "cEyOg4wbJKHn"
      }
    },
    {
      "cell_type": "code",
      "source": [
        "# Pytorch 2.0\n",
        "!pip install --upgrade torch torchvision"
      ],
      "metadata": {
        "id": "ODoNTaF3LoqD"
      },
      "execution_count": null,
      "outputs": []
    },
    {
      "cell_type": "code",
      "source": [
        "# Pytorch Lightning 2.0 ## Thanks to Adrian, Edd in Lightning Discord\n",
        "!pip install -qqq \"rich>=12.3.0, <=13.0.1\"\n",
        "!pip install -qqq pygments\n",
        "!pip install -qqq lightning"
      ],
      "metadata": {
        "id": "5762QFX1JQsM"
      },
      "execution_count": null,
      "outputs": []
    },
    {
      "cell_type": "code",
      "source": [
        "# wandb torchmetrics\n",
        "!pip install -qqq wandb torchmetrics timm"
      ],
      "metadata": {
        "id": "apJha7KGN0RT"
      },
      "execution_count": null,
      "outputs": []
    },
    {
      "cell_type": "markdown",
      "source": [
        "## Git Clone"
      ],
      "metadata": {
        "id": "brTiy5Iy0e5V"
      }
    },
    {
      "cell_type": "code",
      "source": [
        "!git clone https://github.com/renslightsaber/lightning-2-dot-zero.git"
      ],
      "metadata": {
        "colab": {
          "base_uri": "https://localhost:8080/"
        },
        "id": "bgzbGfF57DEO",
        "outputId": "aec4f1e9-81e1-4fe4-e834-ba6af890e9ad"
      },
      "execution_count": null,
      "outputs": [
        {
          "output_type": "stream",
          "name": "stdout",
          "text": [
            "Cloning into 'lightning-2-dot-zero'...\n",
            "remote: Enumerating objects: 56, done.\u001b[K\n",
            "remote: Counting objects: 100% (56/56), done.\u001b[K\n",
            "remote: Compressing objects: 100% (52/52), done.\u001b[K\n",
            "remote: Total 56 (delta 13), reused 0 (delta 0), pack-reused 0\u001b[K\n",
            "Unpacking objects: 100% (56/56), 736.96 KiB | 5.99 MiB/s, done.\n"
          ]
        }
      ]
    },
    {
      "cell_type": "code",
      "source": [
        "%ls"
      ],
      "metadata": {
        "colab": {
          "base_uri": "https://localhost:8080/"
        },
        "id": "ssZ_gyJeJoL_",
        "outputId": "ce7e0e75-c543-4ff0-c35c-1308c942647f"
      },
      "execution_count": null,
      "outputs": [
        {
          "output_type": "stream",
          "name": "stdout",
          "text": [
            "\u001b[0m\u001b[01;34mlightning-2-dot-zero\u001b[0m/  \u001b[01;34msample_data\u001b[0m/\n"
          ]
        }
      ]
    },
    {
      "cell_type": "code",
      "source": [
        "%cd 'lightning-2-dot-zero/compile_test'\n",
        "%ls"
      ],
      "metadata": {
        "colab": {
          "base_uri": "https://localhost:8080/"
        },
        "id": "4vL_rMzWCik0",
        "outputId": "ab88baab-0e01-4738-f177-d0f88c76c7fb"
      },
      "execution_count": null,
      "outputs": [
        {
          "output_type": "stream",
          "name": "stdout",
          "text": [
            "/content/lightning-2-dot-zero/compile_test\n",
            "\u001b[0m\u001b[01;34mimgs\u001b[0m/  README.md  train.py\n"
          ]
        }
      ]
    },
    {
      "cell_type": "code",
      "source": [
        "%pwd"
      ],
      "metadata": {
        "colab": {
          "base_uri": "https://localhost:8080/",
          "height": 36
        },
        "id": "nbOzslRHMZMc",
        "outputId": "66efe442-13ea-48be-99f2-64e88b630f53"
      },
      "execution_count": null,
      "outputs": [
        {
          "output_type": "execute_result",
          "data": {
            "text/plain": [
              "'/content/lightning-2-dot-zero/compile_test'"
            ],
            "application/vnd.google.colaboratory.intrinsic+json": {
              "type": "string"
            }
          },
          "metadata": {},
          "execution_count": 9
        }
      ]
    },
    {
      "cell_type": "markdown",
      "source": [
        "## wandb"
      ],
      "metadata": {
        "id": "AO3yMbJJq3Yy"
      }
    },
    {
      "cell_type": "code",
      "source": [
        "!wandb login --relogin ############### your token ####################"
      ],
      "metadata": {
        "colab": {
          "base_uri": "https://localhost:8080/"
        },
        "id": "Ba_JmCK6q3CF",
        "outputId": "5fef61a6-2bb7-4389-fc26-6f1f4cb480a1"
      },
      "execution_count": null,
      "outputs": [
        {
          "output_type": "stream",
          "name": "stdout",
          "text": [
            "\u001b[34m\u001b[1mwandb\u001b[0m: Appending key for api.wandb.ai to your netrc file: /root/.netrc\n"
          ]
        }
      ]
    },
    {
      "cell_type": "markdown",
      "source": [
        "## train"
      ],
      "metadata": {
        "id": "MUHMPM_SvPH5"
      }
    },
    {
      "cell_type": "markdown",
      "source": [
        "### is_compiled: `Not compiled`"
      ],
      "metadata": {
        "id": "xqNjvVqX3T_J"
      }
    },
    {
      "cell_type": "code",
      "source": [
        "# (Not compiled) train!\n",
        "!python train.py --project_name 'Lightning_2_dot_zero' \\\n",
        "                 --model_name 'resnet50' \\\n",
        "                 --is_compiled 'Not_compiled' \\\n",
        "                 --strategy 'auto' \\\n",
        "                 --n_epochs 7 \\\n",
        "                 --bs 32"
      ],
      "metadata": {
        "colab": {
          "base_uri": "https://localhost:8080/"
        },
        "outputId": "06a230ef-6914-47a1-fa28-d05ac79aa724",
        "id": "r_BDvhlwA0Vo"
      },
      "execution_count": null,
      "outputs": [
        {
          "output_type": "stream",
          "name": "stdout",
          "text": [
            "Version of Pytorch:  2.0.0+cu117\n",
            "Version of Lightning:  2.0.0\n",
            "Files already downloaded and verified\n",
            "Files already downloaded and verified\n",
            "DataLoader Completed\n",
            "Check Shape of Batch:  torch.Size([32, 3, 32, 32]) torch.Size([32])\n",
            "model_name: resnet50\n",
            "\u001b[34m\u001b[1mwandb\u001b[0m: Currently logged in as: \u001b[33mwako\u001b[0m. Use \u001b[1m`wandb login --relogin`\u001b[0m to force relogin\n",
            "\u001b[34m\u001b[1mwandb\u001b[0m: Tracking run with wandb version 0.14.0\n",
            "\u001b[34m\u001b[1mwandb\u001b[0m: Run data is saved locally in \u001b[35m\u001b[1m./wandb/run-20230319_081000-po4ai3zh\u001b[0m\n",
            "\u001b[34m\u001b[1mwandb\u001b[0m: Run \u001b[1m`wandb offline`\u001b[0m to turn off syncing.\n",
            "\u001b[34m\u001b[1mwandb\u001b[0m: Syncing run \u001b[33mresnet50_Not_compiled_default\u001b[0m\n",
            "\u001b[34m\u001b[1mwandb\u001b[0m: ⭐️ View project at \u001b[34m\u001b[4mhttps://wandb.ai/wako/Lightning_2_dot_zero\u001b[0m\n",
            "\u001b[34m\u001b[1mwandb\u001b[0m: 🚀 View run at \u001b[34m\u001b[4mhttps://wandb.ai/wako/Lightning_2_dot_zero/runs/po4ai3zh\u001b[0m\n",
            "GPU available: True (cuda), used: True\n",
            "TPU available: False, using: 0 TPU cores\n",
            "IPU available: False, using: 0 IPUs\n",
            "HPU available: False, using: 0 HPUs\n",
            "LOCAL_RANK: 0 - CUDA_VISIBLE_DEVICES: [0]\n",
            "\n",
            "  | Name      | Type               | Params\n",
            "-------------------------------------------------\n",
            "0 | model     | ResNet             | 23.5 M\n",
            "1 | criterion | CrossEntropyLoss   | 0     \n",
            "2 | train_acc | MulticlassAccuracy | 0     \n",
            "3 | valid_acc | MulticlassAccuracy | 0     \n",
            "4 | train_f1  | MulticlassF1Score  | 0     \n",
            "5 | valid_f1  | MulticlassF1Score  | 0     \n",
            "-------------------------------------------------\n",
            "23.5 M    Trainable params\n",
            "0         Non-trainable params\n",
            "23.5 M    Total params\n",
            "94.114    Total estimated model params size (MB)\n",
            "Epoch 0: 100% 1563/1563 [01:14<00:00, 20.86it/s, v_num=i3zh, train/loss_step=1.620]\n",
            "Validation: 0it [00:00, ?it/s]\u001b[A\n",
            "Validation:   0% 0/313 [00:00<?, ?it/s]\u001b[A\n",
            "Validation DataLoader 0:   0% 0/313 [00:00<?, ?it/s]\u001b[A\n",
            "Validation DataLoader 0:   6% 20/313 [00:00<00:05, 56.97it/s]\u001b[A\n",
            "Validation DataLoader 0:  13% 40/313 [00:00<00:04, 56.76it/s]\u001b[A\n",
            "Validation DataLoader 0:  19% 60/313 [00:01<00:04, 56.36it/s]\u001b[A\n",
            "Validation DataLoader 0:  26% 80/313 [00:01<00:04, 55.94it/s]\u001b[A\n",
            "Validation DataLoader 0:  32% 100/313 [00:01<00:03, 55.09it/s]\u001b[A\n",
            "Validation DataLoader 0:  38% 120/313 [00:02<00:03, 55.18it/s]\u001b[A\n",
            "Validation DataLoader 0:  45% 140/313 [00:02<00:03, 55.40it/s]\u001b[A\n",
            "Validation DataLoader 0:  51% 160/313 [00:02<00:02, 55.19it/s]\u001b[A\n",
            "Validation DataLoader 0:  58% 180/313 [00:03<00:02, 55.24it/s]\u001b[A\n",
            "Validation DataLoader 0:  64% 200/313 [00:03<00:02, 55.32it/s]\u001b[A\n",
            "Validation DataLoader 0:  70% 220/313 [00:03<00:01, 55.02it/s]\u001b[A\n",
            "Validation DataLoader 0:  77% 240/313 [00:04<00:01, 54.86it/s]\u001b[A\n",
            "Validation DataLoader 0:  83% 260/313 [00:04<00:00, 54.65it/s]\u001b[A\n",
            "Validation DataLoader 0:  89% 280/313 [00:05<00:00, 54.52it/s]\u001b[A\n",
            "Validation DataLoader 0:  96% 300/313 [00:05<00:00, 54.48it/s]\u001b[A\n",
            "Epoch 0: 100% 1563/1563 [01:20<00:00, 19.34it/s, v_num=i3zh, train/loss_step=1.620, valid/loss_step=1.270, valid/loss_epoch=1.290, valid/acc_epoch=0.527, valid/f1_epoch=0.527]\n",
            "Epoch 1: 100% 1563/1563 [01:14<00:00, 20.85it/s, v_num=i3zh, train/loss_step=0.897, valid/loss_step=1.270, valid/loss_epoch=1.290, valid/acc_epoch=0.527, valid/f1_epoch=0.527, train/loss_epoch=1.560, train/acc_epoch=0.439, train/f1_epoch=0.439]\n",
            "Validation: 0it [00:00, ?it/s]\u001b[A\n",
            "Validation:   0% 0/313 [00:00<?, ?it/s]\u001b[A\n",
            "Validation DataLoader 0:   0% 0/313 [00:00<?, ?it/s]\u001b[A\n",
            "Validation DataLoader 0:   6% 20/313 [00:00<00:09, 32.29it/s]\u001b[A\n",
            "Validation DataLoader 0:  13% 40/313 [00:01<00:08, 32.48it/s]\u001b[A\n",
            "Validation DataLoader 0:  19% 60/313 [00:01<00:07, 32.01it/s]\u001b[A\n",
            "Validation DataLoader 0:  26% 80/313 [00:02<00:07, 32.16it/s]\u001b[A\n",
            "Validation DataLoader 0:  32% 100/313 [00:03<00:06, 32.18it/s]\u001b[A\n",
            "Validation DataLoader 0:  38% 120/313 [00:03<00:06, 32.01it/s]\u001b[A\n",
            "Validation DataLoader 0:  45% 140/313 [00:04<00:05, 33.81it/s]\u001b[A\n",
            "Validation DataLoader 0:  51% 160/313 [00:04<00:04, 35.58it/s]\u001b[A\n",
            "Validation DataLoader 0:  58% 180/313 [00:04<00:03, 36.91it/s]\u001b[A\n",
            "Validation DataLoader 0:  64% 200/313 [00:05<00:02, 37.95it/s]\u001b[A\n",
            "Validation DataLoader 0:  70% 220/313 [00:05<00:02, 39.17it/s]\u001b[A\n",
            "Validation DataLoader 0:  77% 240/313 [00:05<00:01, 40.17it/s]\u001b[A\n",
            "Validation DataLoader 0:  83% 260/313 [00:06<00:01, 40.90it/s]\u001b[A\n",
            "Validation DataLoader 0:  89% 280/313 [00:06<00:00, 41.63it/s]\u001b[A\n",
            "Validation DataLoader 0:  96% 300/313 [00:07<00:00, 42.29it/s]\u001b[A\n",
            "Epoch 1: 100% 1563/1563 [01:22<00:00, 18.93it/s, v_num=i3zh, train/loss_step=0.897, valid/loss_step=0.942, valid/loss_epoch=1.060, valid/acc_epoch=0.630, valid/f1_epoch=0.630, train/loss_epoch=1.560, train/acc_epoch=0.439, train/f1_epoch=0.439]\n",
            "Epoch 2: 100% 1563/1563 [01:14<00:00, 20.95it/s, v_num=i3zh, train/loss_step=0.785, valid/loss_step=0.942, valid/loss_epoch=1.060, valid/acc_epoch=0.630, valid/f1_epoch=0.630, train/loss_epoch=1.140, train/acc_epoch=0.600, train/f1_epoch=0.600]\n",
            "Validation: 0it [00:00, ?it/s]\u001b[A\n",
            "Validation:   0% 0/313 [00:00<?, ?it/s]\u001b[A\n",
            "Validation DataLoader 0:   0% 0/313 [00:00<?, ?it/s]\u001b[A\n",
            "Validation DataLoader 0:   6% 20/313 [00:00<00:08, 36.10it/s]\u001b[A\n",
            "Validation DataLoader 0:  13% 40/313 [00:01<00:07, 35.20it/s]\u001b[A\n",
            "Validation DataLoader 0:  19% 60/313 [00:01<00:07, 36.12it/s]\u001b[A\n",
            "Validation DataLoader 0:  26% 80/313 [00:02<00:06, 35.88it/s]\u001b[A\n",
            "Validation DataLoader 0:  32% 100/313 [00:02<00:05, 35.55it/s]\u001b[A\n",
            "Validation DataLoader 0:  38% 120/313 [00:03<00:05, 34.89it/s]\u001b[A\n",
            "Validation DataLoader 0:  45% 140/313 [00:04<00:05, 34.23it/s]\u001b[A\n",
            "Validation DataLoader 0:  51% 160/313 [00:04<00:04, 33.73it/s]\u001b[A\n",
            "Validation DataLoader 0:  58% 180/313 [00:05<00:03, 33.37it/s]\u001b[A\n",
            "Validation DataLoader 0:  64% 200/313 [00:06<00:03, 33.11it/s]\u001b[A\n",
            "Validation DataLoader 0:  70% 220/313 [00:06<00:02, 32.91it/s]\u001b[A\n",
            "Validation DataLoader 0:  77% 240/313 [00:07<00:02, 32.60it/s]\u001b[A\n",
            "Validation DataLoader 0:  83% 260/313 [00:07<00:01, 32.99it/s]\u001b[A\n",
            "Validation DataLoader 0:  89% 280/313 [00:08<00:00, 34.00it/s]\u001b[A\n",
            "Validation DataLoader 0:  96% 300/313 [00:08<00:00, 34.91it/s]\u001b[A\n",
            "Epoch 2: 100% 1563/1563 [01:23<00:00, 18.68it/s, v_num=i3zh, train/loss_step=0.785, valid/loss_step=0.601, valid/loss_epoch=0.887, valid/acc_epoch=0.686, valid/f1_epoch=0.686, train/loss_epoch=1.140, train/acc_epoch=0.600, train/f1_epoch=0.600]\n",
            "Epoch 3: 100% 1563/1563 [01:14<00:00, 21.09it/s, v_num=i3zh, train/loss_step=0.495, valid/loss_step=0.601, valid/loss_epoch=0.887, valid/acc_epoch=0.686, valid/f1_epoch=0.686, train/loss_epoch=0.908, train/acc_epoch=0.683, train/f1_epoch=0.683]\n",
            "Validation: 0it [00:00, ?it/s]\u001b[A\n",
            "Validation:   0% 0/313 [00:00<?, ?it/s]\u001b[A\n",
            "Validation DataLoader 0:   0% 0/313 [00:00<?, ?it/s]\u001b[A\n",
            "Validation DataLoader 0:   6% 20/313 [00:00<00:05, 52.62it/s]\u001b[A\n",
            "Validation DataLoader 0:  13% 40/313 [00:00<00:05, 53.91it/s]\u001b[A\n",
            "Validation DataLoader 0:  19% 60/313 [00:01<00:04, 53.47it/s]\u001b[A\n",
            "Validation DataLoader 0:  26% 80/313 [00:01<00:04, 53.61it/s]\u001b[A\n",
            "Validation DataLoader 0:  32% 100/313 [00:01<00:03, 53.49it/s]\u001b[A\n",
            "Validation DataLoader 0:  38% 120/313 [00:02<00:03, 53.68it/s]\u001b[A\n",
            "Validation DataLoader 0:  45% 140/313 [00:02<00:03, 53.14it/s]\u001b[A\n",
            "Validation DataLoader 0:  51% 160/313 [00:03<00:02, 53.10it/s]\u001b[A\n",
            "Validation DataLoader 0:  58% 180/313 [00:03<00:02, 53.08it/s]\u001b[A\n",
            "Validation DataLoader 0:  64% 200/313 [00:03<00:02, 53.45it/s]\u001b[A\n",
            "Validation DataLoader 0:  70% 220/313 [00:04<00:01, 52.55it/s]\u001b[A\n",
            "Validation DataLoader 0:  77% 240/313 [00:04<00:01, 50.51it/s]\u001b[A\n",
            "Validation DataLoader 0:  83% 260/313 [00:05<00:01, 49.34it/s]\u001b[A\n",
            "Validation DataLoader 0:  89% 280/313 [00:05<00:00, 48.12it/s]\u001b[A\n",
            "Validation DataLoader 0:  96% 300/313 [00:06<00:00, 47.12it/s]\u001b[A\n",
            "Epoch 3: 100% 1563/1563 [01:21<00:00, 19.29it/s, v_num=i3zh, train/loss_step=0.495, valid/loss_step=0.344, valid/loss_epoch=0.814, valid/acc_epoch=0.719, valid/f1_epoch=0.719, train/loss_epoch=0.908, train/acc_epoch=0.683, train/f1_epoch=0.683]\n",
            "Epoch 4: 100% 1563/1563 [01:15<00:00, 20.67it/s, v_num=i3zh, train/loss_step=0.630, valid/loss_step=0.344, valid/loss_epoch=0.814, valid/acc_epoch=0.719, valid/f1_epoch=0.719, train/loss_epoch=0.758, train/acc_epoch=0.737, train/f1_epoch=0.737]\n",
            "Validation: 0it [00:00, ?it/s]\u001b[A\n",
            "Validation:   0% 0/313 [00:00<?, ?it/s]\u001b[A\n",
            "Validation DataLoader 0:   0% 0/313 [00:00<?, ?it/s]\u001b[A\n",
            "Validation DataLoader 0:   6% 20/313 [00:00<00:05, 52.38it/s]\u001b[A\n",
            "Validation DataLoader 0:  13% 40/313 [00:00<00:05, 51.70it/s]\u001b[A\n",
            "Validation DataLoader 0:  19% 60/313 [00:01<00:04, 51.83it/s]\u001b[A\n",
            "Validation DataLoader 0:  26% 80/313 [00:01<00:04, 52.65it/s]\u001b[A\n",
            "Validation DataLoader 0:  32% 100/313 [00:01<00:03, 53.33it/s]\u001b[A\n",
            "Validation DataLoader 0:  38% 120/313 [00:02<00:03, 52.36it/s]\u001b[A\n",
            "Validation DataLoader 0:  45% 140/313 [00:02<00:03, 52.30it/s]\u001b[A\n",
            "Validation DataLoader 0:  51% 160/313 [00:03<00:02, 52.52it/s]\u001b[A\n",
            "Validation DataLoader 0:  58% 180/313 [00:03<00:02, 52.56it/s]\u001b[A\n",
            "Validation DataLoader 0:  64% 200/313 [00:03<00:02, 52.90it/s]\u001b[A\n",
            "Validation DataLoader 0:  70% 220/313 [00:04<00:01, 53.14it/s]\u001b[A\n",
            "Validation DataLoader 0:  77% 240/313 [00:04<00:01, 53.23it/s]\u001b[A\n",
            "Validation DataLoader 0:  83% 260/313 [00:04<00:00, 53.23it/s]\u001b[A\n",
            "Validation DataLoader 0:  89% 280/313 [00:05<00:00, 52.79it/s]\u001b[A\n",
            "Validation DataLoader 0:  96% 300/313 [00:05<00:00, 52.71it/s]\u001b[A\n",
            "Epoch 4: 100% 1563/1563 [01:21<00:00, 19.12it/s, v_num=i3zh, train/loss_step=0.630, valid/loss_step=0.394, valid/loss_epoch=0.808, valid/acc_epoch=0.724, valid/f1_epoch=0.724, train/loss_epoch=0.758, train/acc_epoch=0.737, train/f1_epoch=0.737]\n",
            "Epoch 5: 100% 1563/1563 [01:15<00:00, 20.61it/s, v_num=i3zh, train/loss_step=0.436, valid/loss_step=0.394, valid/loss_epoch=0.808, valid/acc_epoch=0.724, valid/f1_epoch=0.724, train/loss_epoch=0.640, train/acc_epoch=0.777, train/f1_epoch=0.777]\n",
            "Validation: 0it [00:00, ?it/s]\u001b[A\n",
            "Validation:   0% 0/313 [00:00<?, ?it/s]\u001b[A\n",
            "Validation DataLoader 0:   0% 0/313 [00:00<?, ?it/s]\u001b[A\n",
            "Validation DataLoader 0:   6% 20/313 [00:00<00:08, 34.83it/s]\u001b[A\n",
            "Validation DataLoader 0:  13% 40/313 [00:01<00:07, 35.38it/s]\u001b[A\n",
            "Validation DataLoader 0:  19% 60/313 [00:01<00:07, 34.52it/s]\u001b[A\n",
            "Validation DataLoader 0:  26% 80/313 [00:02<00:06, 36.99it/s]\u001b[A\n",
            "Validation DataLoader 0:  32% 100/313 [00:02<00:05, 39.50it/s]\u001b[A\n",
            "Validation DataLoader 0:  38% 120/313 [00:02<00:04, 41.49it/s]\u001b[A\n",
            "Validation DataLoader 0:  45% 140/313 [00:03<00:04, 42.96it/s]\u001b[A\n",
            "Validation DataLoader 0:  51% 160/313 [00:03<00:03, 44.21it/s]\u001b[A\n",
            "Validation DataLoader 0:  58% 180/313 [00:03<00:02, 45.14it/s]\u001b[A\n",
            "Validation DataLoader 0:  64% 200/313 [00:04<00:02, 45.74it/s]\u001b[A\n",
            "Validation DataLoader 0:  70% 220/313 [00:04<00:01, 46.53it/s]\u001b[A\n",
            "Validation DataLoader 0:  77% 240/313 [00:05<00:01, 47.15it/s]\u001b[A\n",
            "Validation DataLoader 0:  83% 260/313 [00:05<00:01, 47.60it/s]\u001b[A\n",
            "Validation DataLoader 0:  89% 280/313 [00:05<00:00, 48.09it/s]\u001b[A\n",
            "Validation DataLoader 0:  96% 300/313 [00:06<00:00, 48.38it/s]\u001b[A\n",
            "Epoch 5: 100% 1563/1563 [01:22<00:00, 18.93it/s, v_num=i3zh, train/loss_step=0.436, valid/loss_step=0.551, valid/loss_epoch=0.757, valid/acc_epoch=0.744, valid/f1_epoch=0.744, train/loss_epoch=0.640, train/acc_epoch=0.777, train/f1_epoch=0.777]\n",
            "Epoch 6: 100% 1563/1563 [01:15<00:00, 20.81it/s, v_num=i3zh, train/loss_step=0.377, valid/loss_step=0.551, valid/loss_epoch=0.757, valid/acc_epoch=0.744, valid/f1_epoch=0.744, train/loss_epoch=0.537, train/acc_epoch=0.813, train/f1_epoch=0.813]\n",
            "Validation: 0it [00:00, ?it/s]\u001b[A\n",
            "Validation:   0% 0/313 [00:00<?, ?it/s]\u001b[A\n",
            "Validation DataLoader 0:   0% 0/313 [00:00<?, ?it/s]\u001b[A\n",
            "Validation DataLoader 0:   6% 20/313 [00:00<00:07, 36.95it/s]\u001b[A\n",
            "Validation DataLoader 0:  13% 40/313 [00:01<00:07, 35.81it/s]\u001b[A\n",
            "Validation DataLoader 0:  19% 60/313 [00:01<00:07, 34.53it/s]\u001b[A\n",
            "Validation DataLoader 0:  26% 80/313 [00:02<00:06, 33.69it/s]\u001b[A\n",
            "Validation DataLoader 0:  32% 100/313 [00:03<00:06, 32.88it/s]\u001b[A\n",
            "Validation DataLoader 0:  38% 120/313 [00:03<00:05, 32.29it/s]\u001b[A\n",
            "Validation DataLoader 0:  45% 140/313 [00:04<00:05, 32.15it/s]\u001b[A\n",
            "Validation DataLoader 0:  51% 160/313 [00:05<00:04, 31.71it/s]\u001b[A\n",
            "Validation DataLoader 0:  58% 180/313 [00:05<00:04, 31.44it/s]\u001b[A\n",
            "Validation DataLoader 0:  64% 200/313 [00:06<00:03, 32.64it/s]\u001b[A\n",
            "Validation DataLoader 0:  70% 220/313 [00:06<00:02, 33.85it/s]\u001b[A\n",
            "Validation DataLoader 0:  77% 240/313 [00:06<00:02, 34.96it/s]\u001b[A\n",
            "Validation DataLoader 0:  83% 260/313 [00:07<00:01, 36.00it/s]\u001b[A\n",
            "Validation DataLoader 0:  89% 280/313 [00:07<00:00, 36.92it/s]\u001b[A\n",
            "Validation DataLoader 0:  96% 300/313 [00:07<00:00, 37.70it/s]\u001b[A\n",
            "Epoch 6: 100% 1563/1563 [01:23<00:00, 18.70it/s, v_num=i3zh, train/loss_step=0.377, valid/loss_step=0.351, valid/loss_epoch=0.755, valid/acc_epoch=0.755, valid/f1_epoch=0.755, train/loss_epoch=0.537, train/acc_epoch=0.813, train/f1_epoch=0.813]\n",
            "Epoch 6: 100% 1563/1563 [01:23<00:00, 18.70it/s, v_num=i3zh, train/loss_step=0.377, valid/loss_step=0.351, valid/loss_epoch=0.755, valid/acc_epoch=0.755, valid/f1_epoch=0.755, train/loss_epoch=0.433, train/acc_epoch=0.850, train/f1_epoch=0.850]`Trainer.fit` stopped: `max_epochs=7` reached.\n",
            "Epoch 6: 100% 1563/1563 [01:24<00:00, 18.49it/s, v_num=i3zh, train/loss_step=0.377, valid/loss_step=0.351, valid/loss_epoch=0.755, valid/acc_epoch=0.755, valid/f1_epoch=0.755, train/loss_epoch=0.433, train/acc_epoch=0.850, train/f1_epoch=0.850]\n",
            "\u001b[34m\u001b[1mwandb\u001b[0m: Waiting for W&B process to finish... \u001b[32m(success).\u001b[0m\n",
            "\u001b[34m\u001b[1mwandb\u001b[0m: \n",
            "\u001b[34m\u001b[1mwandb\u001b[0m: Run history:\n",
            "\u001b[34m\u001b[1mwandb\u001b[0m:               epoch ▁▁▁▁▁▁▂▂▂▂▂▂▃▃▃▃▃▅▅▅▅▅▅▆▆▆▆▆▆▇▇▇▇▇██████\n",
            "\u001b[34m\u001b[1mwandb\u001b[0m:     train/acc_epoch ▁▄▅▆▇▇█\n",
            "\u001b[34m\u001b[1mwandb\u001b[0m:      train/f1_epoch ▁▄▅▆▇▇█\n",
            "\u001b[34m\u001b[1mwandb\u001b[0m:    train/loss_epoch █▅▄▃▂▂▁\n",
            "\u001b[34m\u001b[1mwandb\u001b[0m:     train/loss_step ██▆▄▄▅▅▅▄▄▄▄▄▄▃▄▃▃▃▂▃▄▄▂▅▃▂▃▃▃▂▂▂▂▁▁▁▁▃▂\n",
            "\u001b[34m\u001b[1mwandb\u001b[0m: trainer/global_step ▁▁▁▁▁▁▁▁▁▁▁▁▁▂▂▂▂▅▂▂▂▂▂▆▂▂▂▂▂▂▂▂▂▂█▂▂▃▃▃\n",
            "\u001b[34m\u001b[1mwandb\u001b[0m:     valid/acc_epoch ▁▄▆▇▇██\n",
            "\u001b[34m\u001b[1mwandb\u001b[0m:      valid/f1_epoch ▁▄▆▇▇██\n",
            "\u001b[34m\u001b[1mwandb\u001b[0m:    valid/loss_epoch █▅▃▂▂▁▁\n",
            "\u001b[34m\u001b[1mwandb\u001b[0m:     valid/loss_step ▅▆▅█▅▄▇▄▆▄▅▄▃▇▇▄▅▃▄▃▁▅▃▅▂▄▅▃▂▁▂▄▃▃▃▃▃▃▁▃\n",
            "\u001b[34m\u001b[1mwandb\u001b[0m: \n",
            "\u001b[34m\u001b[1mwandb\u001b[0m: Run summary:\n",
            "\u001b[34m\u001b[1mwandb\u001b[0m:               epoch 6\n",
            "\u001b[34m\u001b[1mwandb\u001b[0m:     train/acc_epoch 0.8502\n",
            "\u001b[34m\u001b[1mwandb\u001b[0m:      train/f1_epoch 0.8502\n",
            "\u001b[34m\u001b[1mwandb\u001b[0m:    train/loss_epoch 0.43339\n",
            "\u001b[34m\u001b[1mwandb\u001b[0m:     train/loss_step 0.43791\n",
            "\u001b[34m\u001b[1mwandb\u001b[0m: trainer/global_step 10940\n",
            "\u001b[34m\u001b[1mwandb\u001b[0m:     valid/acc_epoch 0.7554\n",
            "\u001b[34m\u001b[1mwandb\u001b[0m:      valid/f1_epoch 0.7554\n",
            "\u001b[34m\u001b[1mwandb\u001b[0m:    valid/loss_epoch 0.75503\n",
            "\u001b[34m\u001b[1mwandb\u001b[0m:     valid/loss_step 0.35106\n",
            "\u001b[34m\u001b[1mwandb\u001b[0m: \n",
            "\u001b[34m\u001b[1mwandb\u001b[0m: 🚀 View run \u001b[33mresnet50_Not_compiled_default\u001b[0m at: \u001b[34m\u001b[4mhttps://wandb.ai/wako/Lightning_2_dot_zero/runs/po4ai3zh\u001b[0m\n",
            "\u001b[34m\u001b[1mwandb\u001b[0m: Synced 5 W&B file(s), 0 media file(s), 2 artifact file(s) and 0 other file(s)\n",
            "\u001b[34m\u001b[1mwandb\u001b[0m: Find logs at: \u001b[35m\u001b[1m./wandb/run-20230319_081000-po4ai3zh/logs\u001b[0m\n",
            "Train Completed\n"
          ]
        }
      ]
    },
    {
      "cell_type": "markdown",
      "source": [
        "### is_compiled: `compiled`"
      ],
      "metadata": {
        "id": "8KIXQsF53YTd"
      }
    },
    {
      "cell_type": "code",
      "source": [
        "# (Compiled) train! -- Done in Colab(.ipynb)\n",
        "!python train.py --project_name 'Lightning_2_dot_zero' \\\n",
        "                 --model_name 'resnet50' \\\n",
        "                 --is_compiled 'compiled' \\\n",
        "                 --mode 'default' \\\n",
        "                 --strategy 'auto' \\\n",
        "                 --n_epochs 7 \\\n",
        "                 --bs 32"
      ],
      "metadata": {
        "id": "hLDNyh8E3McP"
      },
      "execution_count": null,
      "outputs": []
    },
    {
      "cell_type": "code",
      "source": [
        "# (Compiled) train!\n",
        "!python train.py --project_name 'Lightning_2_dot_zero' \\\n",
        "                 --model_name 'resnet50' \\\n",
        "                 --is_compiled 'compiled' \\\n",
        "                 --mode 'reduce-overhead' \\\n",
        "                 --strategy 'auto' \\\n",
        "                 --n_epochs 7 \\\n",
        "                 --bs 32"
      ],
      "metadata": {
        "colab": {
          "base_uri": "https://localhost:8080/"
        },
        "outputId": "d1520d21-5aba-4202-c122-7c34927b92c8",
        "id": "gBnvJEE7A7YD"
      },
      "execution_count": null,
      "outputs": [
        {
          "output_type": "stream",
          "name": "stdout",
          "text": [
            "Version of Pytorch:  2.0.0+cu117\n",
            "Version of Lightning:  2.0.0\n",
            "Files already downloaded and verified\n",
            "Files already downloaded and verified\n",
            "DataLoader Completed\n",
            "Check Shape of Batch:  torch.Size([32, 3, 32, 32]) torch.Size([32])\n",
            "model_name: resnet50, is_compiled?: compiled, and mode is reduce-overhead\n",
            "\u001b[34m\u001b[1mwandb\u001b[0m: Currently logged in as: \u001b[33mwako\u001b[0m. Use \u001b[1m`wandb login --relogin`\u001b[0m to force relogin\n",
            "\u001b[34m\u001b[1mwandb\u001b[0m: Tracking run with wandb version 0.14.0\n",
            "\u001b[34m\u001b[1mwandb\u001b[0m: Run data is saved locally in \u001b[35m\u001b[1m./wandb/run-20230319_082349-989ip3xj\u001b[0m\n",
            "\u001b[34m\u001b[1mwandb\u001b[0m: Run \u001b[1m`wandb offline`\u001b[0m to turn off syncing.\n",
            "\u001b[34m\u001b[1mwandb\u001b[0m: Syncing run \u001b[33mresnet50_compiled_reduce-overhead\u001b[0m\n",
            "\u001b[34m\u001b[1mwandb\u001b[0m: ⭐️ View project at \u001b[34m\u001b[4mhttps://wandb.ai/wako/Lightning_2_dot_zero\u001b[0m\n",
            "\u001b[34m\u001b[1mwandb\u001b[0m: 🚀 View run at \u001b[34m\u001b[4mhttps://wandb.ai/wako/Lightning_2_dot_zero/runs/989ip3xj\u001b[0m\n",
            "GPU available: True (cuda), used: True\n",
            "TPU available: False, using: 0 TPU cores\n",
            "IPU available: False, using: 0 IPUs\n",
            "HPU available: False, using: 0 HPUs\n",
            "LOCAL_RANK: 0 - CUDA_VISIBLE_DEVICES: [0]\n",
            "\n",
            "  | Name      | Type               | Params\n",
            "-------------------------------------------------\n",
            "0 | model     | ResNet             | 23.5 M\n",
            "1 | criterion | CrossEntropyLoss   | 0     \n",
            "2 | train_acc | MulticlassAccuracy | 0     \n",
            "3 | valid_acc | MulticlassAccuracy | 0     \n",
            "4 | train_f1  | MulticlassF1Score  | 0     \n",
            "5 | valid_f1  | MulticlassF1Score  | 0     \n",
            "-------------------------------------------------\n",
            "23.5 M    Trainable params\n",
            "0         Non-trainable params\n",
            "23.5 M    Total params\n",
            "94.114    Total estimated model params size (MB)\n",
            "Sanity Checking DataLoader 0:   0% 0/2 [00:00<?, ?it/s][2023-03-19 08:24:04,333] torch._inductor.utils: [WARNING] skipping cudagraphs due to input mutation\n",
            "[2023-03-19 08:24:05,904] torch._inductor.utils: [WARNING] skipping cudagraphs due to input mutation\n",
            "[2023-03-19 08:24:05,932] torch._inductor.utils: [WARNING] skipping cudagraphs due to input mutation\n",
            "[2023-03-19 08:24:05,967] torch._inductor.utils: [WARNING] skipping cudagraphs due to input mutation\n",
            "[2023-03-19 08:24:05,993] torch._inductor.utils: [WARNING] skipping cudagraphs due to input mutation\n",
            "[2023-03-19 08:24:06,361] torch._inductor.utils: [WARNING] skipping cudagraphs due to input mutation\n",
            "[2023-03-19 08:24:06,385] torch._inductor.utils: [WARNING] skipping cudagraphs due to input mutation\n",
            "[2023-03-19 08:24:06,410] torch._inductor.utils: [WARNING] skipping cudagraphs due to input mutation\n",
            "[2023-03-19 08:24:06,435] torch._inductor.utils: [WARNING] skipping cudagraphs due to input mutation\n",
            "/usr/local/lib/python3.9/dist-packages/torch/cuda/graphs.py:79: UserWarning: The CUDA Graph is empty. This ususally means that the graph was attempted to be captured on wrong device or stream. (Triggered internally at ../aten/src/ATen/cuda/CUDAGraph.cpp:191.)\n",
            "  super().capture_end()\n",
            "[2023-03-19 08:24:07,390] torch._inductor.utils: [WARNING] DeviceCopy in input program\n",
            "[2023-03-19 08:24:07,392] torch._inductor.utils: [WARNING] skipping cudagraphs due to multiple devices\n",
            "[2023-03-19 08:24:07,430] torch._inductor.utils: [WARNING] DeviceCopy in input program\n",
            "[2023-03-19 08:24:07,432] torch._inductor.utils: [WARNING] skipping cudagraphs due to multiple devices\n",
            "Epoch 0:   0% 0/1563 [00:00<?, ?it/s] /usr/local/lib/python3.9/dist-packages/torch/cuda/graphs.py:79: UserWarning: The CUDA Graph is empty. This ususally means that the graph was attempted to be captured on wrong device or stream. (Triggered internally at ../aten/src/ATen/cuda/CUDAGraph.cpp:191.)\n",
            "  super().capture_end()\n",
            "/usr/local/lib/python3.9/dist-packages/torch/cuda/graphs.py:79: UserWarning: The CUDA Graph is empty. This ususally means that the graph was attempted to be captured on wrong device or stream. (Triggered internally at ../aten/src/ATen/cuda/CUDAGraph.cpp:191.)\n",
            "  super().capture_end()\n",
            "[2023-03-19 08:24:35,360] torch._dynamo.convert_frame: [WARNING] torch._dynamo hit config.cache_size_limit (64)\n",
            "   function: '<graph break in wrapped_func>' (/usr/local/lib/python3.9/dist-packages/torchmetrics/metric.py:386)\n",
            "   reasons:  ___check_type_id(self, 119982448)\n",
            "to diagnose recompilation issues, see https://pytorch.org/docs/master/dynamo/troubleshooting.html.\n",
            "Epoch 0:   1% 20/1563 [00:26<33:47,  1.31s/it, v_num=p3xj, train/loss_step=2.310][2023-03-19 08:24:36,837] torch._dynamo.convert_frame: [WARNING] torch._dynamo hit config.cache_size_limit (64)\n",
            "   function: '_apply' (/usr/local/lib/python3.9/dist-packages/torchmetrics/metric.py:628)\n",
            "   reasons:  ___guarded_code.valid\n",
            "to diagnose recompilation issues, see https://pytorch.org/docs/master/dynamo/troubleshooting.html.\n",
            "Epoch 0: 100% 1563/1563 [01:58<00:00, 13.19it/s, v_num=p3xj, train/loss_step=2.390]\n",
            "Validation: 0it [00:00, ?it/s]\u001b[A\n",
            "Validation:   0% 0/313 [00:00<?, ?it/s]\u001b[A\n",
            "Validation DataLoader 0:   0% 0/313 [00:00<?, ?it/s]\u001b[A\n",
            "Validation DataLoader 0:   6% 20/313 [00:00<00:09, 31.47it/s]\u001b[A\n",
            "Validation DataLoader 0:  13% 40/313 [00:01<00:07, 38.31it/s]\u001b[A\n",
            "Validation DataLoader 0:  19% 60/313 [00:01<00:06, 40.20it/s]\u001b[A\n",
            "Validation DataLoader 0:  26% 80/313 [00:01<00:05, 42.29it/s]\u001b[A\n",
            "Validation DataLoader 0:  32% 100/313 [00:02<00:04, 43.62it/s]\u001b[A\n",
            "Validation DataLoader 0:  38% 120/313 [00:02<00:04, 44.49it/s]\u001b[A\n",
            "Validation DataLoader 0:  45% 140/313 [00:03<00:03, 45.14it/s]\u001b[A\n",
            "Validation DataLoader 0:  51% 160/313 [00:03<00:03, 45.76it/s]\u001b[A\n",
            "Validation DataLoader 0:  58% 180/313 [00:03<00:02, 46.16it/s]\u001b[A\n",
            "Validation DataLoader 0:  64% 200/313 [00:04<00:02, 46.60it/s]\u001b[A\n",
            "Validation DataLoader 0:  70% 220/313 [00:04<00:01, 46.89it/s]\u001b[A\n",
            "Validation DataLoader 0:  77% 240/313 [00:05<00:01, 47.30it/s]\u001b[A\n",
            "Validation DataLoader 0:  83% 260/313 [00:05<00:01, 47.66it/s]\u001b[A\n",
            "Validation DataLoader 0:  89% 280/313 [00:05<00:00, 47.45it/s]\u001b[A\n",
            "Validation DataLoader 0:  96% 300/313 [00:06<00:00, 45.96it/s]\u001b[A[2023-03-19 08:26:25,001] torch._inductor.utils: [WARNING] skipping cudagraphs due to input mutation\n",
            "\n",
            "Epoch 0: 100% 1563/1563 [02:15<00:00, 11.53it/s, v_num=p3xj, train/loss_step=2.390, valid/loss_step=2.400, valid/loss_epoch=2.400, valid/acc_epoch=0.0968, valid/f1_epoch=0.0968]\n",
            "Epoch 1: 100% 1563/1563 [01:09<00:00, 22.39it/s, v_num=p3xj, train/loss_step=2.410, valid/loss_step=2.400, valid/loss_epoch=2.400, valid/acc_epoch=0.0968, valid/f1_epoch=0.0968, train/loss_epoch=2.400, train/acc_epoch=0.0959, train/f1_epoch=0.0959]\n",
            "Validation: 0it [00:00, ?it/s]\u001b[A\n",
            "Validation:   0% 0/313 [00:00<?, ?it/s]\u001b[A\n",
            "Validation DataLoader 0:   0% 0/313 [00:00<?, ?it/s]\u001b[A\n",
            "Validation DataLoader 0:   6% 20/313 [00:00<00:06, 45.45it/s]\u001b[A\n",
            "Validation DataLoader 0:  13% 40/313 [00:00<00:05, 47.07it/s]\u001b[A\n",
            "Validation DataLoader 0:  19% 60/313 [00:01<00:05, 47.86it/s]\u001b[A\n",
            "Validation DataLoader 0:  26% 80/313 [00:01<00:04, 48.98it/s]\u001b[A\n",
            "Validation DataLoader 0:  32% 100/313 [00:02<00:04, 49.78it/s]\u001b[A\n",
            "Validation DataLoader 0:  38% 120/313 [00:02<00:03, 49.62it/s]\u001b[A\n",
            "Validation DataLoader 0:  45% 140/313 [00:02<00:03, 49.69it/s]\u001b[A\n",
            "Validation DataLoader 0:  51% 160/313 [00:03<00:03, 49.85it/s]\u001b[A\n",
            "Validation DataLoader 0:  58% 180/313 [00:03<00:02, 50.01it/s]\u001b[A\n",
            "Validation DataLoader 0:  64% 200/313 [00:03<00:02, 50.17it/s]\u001b[A\n",
            "Validation DataLoader 0:  70% 220/313 [00:04<00:01, 50.13it/s]\u001b[A\n",
            "Validation DataLoader 0:  77% 240/313 [00:04<00:01, 50.34it/s]\u001b[A\n",
            "Validation DataLoader 0:  83% 260/313 [00:05<00:01, 50.46it/s]\u001b[A\n",
            "Validation DataLoader 0:  89% 280/313 [00:05<00:00, 50.08it/s]\u001b[A\n",
            "Validation DataLoader 0:  96% 300/313 [00:06<00:00, 48.57it/s]\u001b[A\n",
            "Epoch 1: 100% 1563/1563 [01:16<00:00, 20.41it/s, v_num=p3xj, train/loss_step=2.410, valid/loss_step=2.410, valid/loss_epoch=2.410, valid/acc_epoch=0.0986, valid/f1_epoch=0.0986, train/loss_epoch=2.400, train/acc_epoch=0.0959, train/f1_epoch=0.0959]\n",
            "Epoch 2: 100% 1563/1563 [01:10<00:00, 22.31it/s, v_num=p3xj, train/loss_step=2.420, valid/loss_step=2.410, valid/loss_epoch=2.410, valid/acc_epoch=0.0986, valid/f1_epoch=0.0986, train/loss_epoch=2.410, train/acc_epoch=0.0961, train/f1_epoch=0.0961]\n",
            "Validation: 0it [00:00, ?it/s]\u001b[A\n",
            "Validation:   0% 0/313 [00:00<?, ?it/s]\u001b[A\n",
            "Validation DataLoader 0:   0% 0/313 [00:00<?, ?it/s]\u001b[A\n",
            "Validation DataLoader 0:   6% 20/313 [00:00<00:10, 28.66it/s]\u001b[A\n",
            "Validation DataLoader 0:  13% 40/313 [00:01<00:09, 29.00it/s]\u001b[A\n",
            "Validation DataLoader 0:  19% 60/313 [00:02<00:08, 28.21it/s]\u001b[A\n",
            "Validation DataLoader 0:  26% 80/313 [00:02<00:08, 28.82it/s]\u001b[A\n",
            "Validation DataLoader 0:  32% 100/313 [00:03<00:07, 29.10it/s]\u001b[A\n",
            "Validation DataLoader 0:  38% 120/313 [00:04<00:06, 29.39it/s]\u001b[A\n",
            "Validation DataLoader 0:  45% 140/313 [00:04<00:05, 29.48it/s]\u001b[A\n",
            "Validation DataLoader 0:  51% 160/313 [00:05<00:05, 29.68it/s]\u001b[A\n",
            "Validation DataLoader 0:  58% 180/313 [00:06<00:04, 29.74it/s]\u001b[A\n",
            "Validation DataLoader 0:  64% 200/313 [00:06<00:03, 31.03it/s]\u001b[A\n",
            "Validation DataLoader 0:  70% 220/313 [00:06<00:02, 32.18it/s]\u001b[A\n",
            "Validation DataLoader 0:  77% 240/313 [00:07<00:02, 33.26it/s]\u001b[A\n",
            "Validation DataLoader 0:  83% 260/313 [00:07<00:01, 34.23it/s]\u001b[A\n",
            "Validation DataLoader 0:  89% 280/313 [00:07<00:00, 35.12it/s]\u001b[A\n",
            "Validation DataLoader 0:  96% 300/313 [00:08<00:00, 35.96it/s]\u001b[A\n",
            "Epoch 2: 100% 1563/1563 [01:18<00:00, 19.80it/s, v_num=p3xj, train/loss_step=2.420, valid/loss_step=2.410, valid/loss_epoch=2.410, valid/acc_epoch=0.0968, valid/f1_epoch=0.0968, train/loss_epoch=2.410, train/acc_epoch=0.0961, train/f1_epoch=0.0961]\n",
            "Epoch 3: 100% 1563/1563 [01:10<00:00, 22.24it/s, v_num=p3xj, train/loss_step=2.400, valid/loss_step=2.410, valid/loss_epoch=2.410, valid/acc_epoch=0.0968, valid/f1_epoch=0.0968, train/loss_epoch=2.410, train/acc_epoch=0.0962, train/f1_epoch=0.0962]\n",
            "Validation: 0it [00:00, ?it/s]\u001b[A\n",
            "Validation:   0% 0/313 [00:00<?, ?it/s]\u001b[A\n",
            "Validation DataLoader 0:   0% 0/313 [00:00<?, ?it/s]\u001b[A\n",
            "Validation DataLoader 0:   6% 20/313 [00:00<00:06, 45.40it/s]\u001b[A\n",
            "Validation DataLoader 0:  13% 40/313 [00:00<00:05, 47.75it/s]\u001b[A\n",
            "Validation DataLoader 0:  19% 60/313 [00:01<00:05, 48.98it/s]\u001b[A\n",
            "Validation DataLoader 0:  26% 80/313 [00:01<00:04, 49.54it/s]\u001b[A\n",
            "Validation DataLoader 0:  32% 100/313 [00:01<00:04, 50.39it/s]\u001b[A\n",
            "Validation DataLoader 0:  38% 120/313 [00:02<00:03, 50.51it/s]\u001b[A\n",
            "Validation DataLoader 0:  45% 140/313 [00:02<00:03, 50.31it/s]\u001b[A\n",
            "Validation DataLoader 0:  51% 160/313 [00:03<00:03, 50.70it/s]\u001b[A\n",
            "Validation DataLoader 0:  58% 180/313 [00:03<00:02, 50.75it/s]\u001b[A\n",
            "Validation DataLoader 0:  64% 200/313 [00:03<00:02, 51.16it/s]\u001b[A\n",
            "Validation DataLoader 0:  70% 220/313 [00:04<00:01, 51.15it/s]\u001b[A\n",
            "Validation DataLoader 0:  77% 240/313 [00:04<00:01, 51.35it/s]\u001b[A\n",
            "Validation DataLoader 0:  83% 260/313 [00:05<00:01, 51.60it/s]\u001b[A\n",
            "Validation DataLoader 0:  89% 280/313 [00:05<00:00, 51.94it/s]\u001b[A\n",
            "Validation DataLoader 0:  96% 300/313 [00:05<00:00, 52.10it/s]\u001b[A\n",
            "Epoch 3: 100% 1563/1563 [01:16<00:00, 20.43it/s, v_num=p3xj, train/loss_step=2.400, valid/loss_step=2.430, valid/loss_epoch=2.430, valid/acc_epoch=0.0988, valid/f1_epoch=0.0988, train/loss_epoch=2.410, train/acc_epoch=0.0962, train/f1_epoch=0.0962]\n",
            "Epoch 4: 100% 1563/1563 [01:09<00:00, 22.58it/s, v_num=p3xj, train/loss_step=2.280, valid/loss_step=2.430, valid/loss_epoch=2.430, valid/acc_epoch=0.0988, valid/f1_epoch=0.0988, train/loss_epoch=2.430, train/acc_epoch=0.0961, train/f1_epoch=0.0961]\n",
            "Validation: 0it [00:00, ?it/s]\u001b[A\n",
            "Validation:   0% 0/313 [00:00<?, ?it/s]\u001b[A\n",
            "Validation DataLoader 0:   0% 0/313 [00:00<?, ?it/s]\u001b[A\n",
            "Validation DataLoader 0:   6% 20/313 [00:00<00:07, 38.80it/s]\u001b[A\n",
            "Validation DataLoader 0:  13% 40/313 [00:01<00:07, 35.84it/s]\u001b[A\n",
            "Validation DataLoader 0:  19% 60/313 [00:01<00:07, 34.43it/s]\u001b[A\n",
            "Validation DataLoader 0:  26% 80/313 [00:02<00:06, 34.19it/s]\u001b[A\n",
            "Validation DataLoader 0:  32% 100/313 [00:02<00:06, 34.21it/s]\u001b[A\n",
            "Validation DataLoader 0:  38% 120/313 [00:03<00:05, 33.41it/s]\u001b[A\n",
            "Validation DataLoader 0:  45% 140/313 [00:04<00:05, 32.93it/s]\u001b[A\n",
            "Validation DataLoader 0:  51% 160/313 [00:04<00:04, 32.65it/s]\u001b[A\n",
            "Validation DataLoader 0:  58% 180/313 [00:05<00:04, 32.29it/s]\u001b[A\n",
            "Validation DataLoader 0:  64% 200/313 [00:06<00:03, 32.08it/s]\u001b[A\n",
            "Validation DataLoader 0:  70% 220/313 [00:06<00:02, 31.90it/s]\u001b[A\n",
            "Validation DataLoader 0:  77% 240/313 [00:07<00:02, 31.69it/s]\u001b[A\n",
            "Validation DataLoader 0:  83% 260/313 [00:08<00:01, 31.39it/s]\u001b[A\n",
            "Validation DataLoader 0:  89% 280/313 [00:08<00:01, 31.72it/s]\u001b[A\n",
            "Validation DataLoader 0:  96% 300/313 [00:09<00:00, 32.35it/s]\u001b[A\n",
            "Epoch 4: 100% 1563/1563 [01:18<00:00, 19.79it/s, v_num=p3xj, train/loss_step=2.280, valid/loss_step=2.410, valid/loss_epoch=2.410, valid/acc_epoch=0.0972, valid/f1_epoch=0.0972, train/loss_epoch=2.430, train/acc_epoch=0.0961, train/f1_epoch=0.0961]\n",
            "Epoch 5: 100% 1563/1563 [01:10<00:00, 22.27it/s, v_num=p3xj, train/loss_step=2.360, valid/loss_step=2.410, valid/loss_epoch=2.410, valid/acc_epoch=0.0972, valid/f1_epoch=0.0972, train/loss_epoch=2.410, train/acc_epoch=0.0958, train/f1_epoch=0.0958]\n",
            "Validation: 0it [00:00, ?it/s]\u001b[A\n",
            "Validation:   0% 0/313 [00:00<?, ?it/s]\u001b[A\n",
            "Validation DataLoader 0:   0% 0/313 [00:00<?, ?it/s]\u001b[A\n",
            "Validation DataLoader 0:   6% 20/313 [00:00<00:05, 50.24it/s]\u001b[A\n",
            "Validation DataLoader 0:  13% 40/313 [00:00<00:05, 50.48it/s]\u001b[A\n",
            "Validation DataLoader 0:  19% 60/313 [00:01<00:05, 50.01it/s]\u001b[A\n",
            "Validation DataLoader 0:  26% 80/313 [00:01<00:04, 50.52it/s]\u001b[A\n",
            "Validation DataLoader 0:  32% 100/313 [00:01<00:04, 50.72it/s]\u001b[A\n",
            "Validation DataLoader 0:  38% 120/313 [00:02<00:03, 50.91it/s]\u001b[A\n",
            "Validation DataLoader 0:  45% 140/313 [00:02<00:03, 50.70it/s]\u001b[A\n",
            "Validation DataLoader 0:  51% 160/313 [00:03<00:03, 50.98it/s]\u001b[A\n",
            "Validation DataLoader 0:  58% 180/313 [00:03<00:02, 51.16it/s]\u001b[A\n",
            "Validation DataLoader 0:  64% 200/313 [00:03<00:02, 50.93it/s]\u001b[A\n",
            "Validation DataLoader 0:  70% 220/313 [00:04<00:01, 51.08it/s]\u001b[A\n",
            "Validation DataLoader 0:  77% 240/313 [00:04<00:01, 51.06it/s]\u001b[A\n",
            "Validation DataLoader 0:  83% 260/313 [00:05<00:01, 51.16it/s]\u001b[A\n",
            "Validation DataLoader 0:  89% 280/313 [00:05<00:00, 51.22it/s]\u001b[A\n",
            "Validation DataLoader 0:  96% 300/313 [00:05<00:00, 51.32it/s]\u001b[A\n",
            "Epoch 5: 100% 1563/1563 [01:16<00:00, 20.43it/s, v_num=p3xj, train/loss_step=2.360, valid/loss_step=2.440, valid/loss_epoch=2.440, valid/acc_epoch=0.0977, valid/f1_epoch=0.0977, train/loss_epoch=2.410, train/acc_epoch=0.0958, train/f1_epoch=0.0958]\n",
            "Epoch 6: 100% 1563/1563 [01:09<00:00, 22.54it/s, v_num=p3xj, train/loss_step=2.400, valid/loss_step=2.440, valid/loss_epoch=2.440, valid/acc_epoch=0.0977, valid/f1_epoch=0.0977, train/loss_epoch=2.440, train/acc_epoch=0.0956, train/f1_epoch=0.0956]\n",
            "Validation: 0it [00:00, ?it/s]\u001b[A\n",
            "Validation:   0% 0/313 [00:00<?, ?it/s]\u001b[A\n",
            "Validation DataLoader 0:   0% 0/313 [00:00<?, ?it/s]\u001b[A\n",
            "Validation DataLoader 0:   6% 20/313 [00:00<00:05, 49.30it/s]\u001b[A\n",
            "Validation DataLoader 0:  13% 40/313 [00:00<00:05, 48.81it/s]\u001b[A\n",
            "Validation DataLoader 0:  19% 60/313 [00:01<00:05, 48.58it/s]\u001b[A\n",
            "Validation DataLoader 0:  26% 80/313 [00:01<00:04, 48.59it/s]\u001b[A\n",
            "Validation DataLoader 0:  32% 100/313 [00:02<00:04, 49.38it/s]\u001b[A\n",
            "Validation DataLoader 0:  38% 120/313 [00:02<00:03, 49.61it/s]\u001b[A\n",
            "Validation DataLoader 0:  45% 140/313 [00:02<00:03, 49.73it/s]\u001b[A\n",
            "Validation DataLoader 0:  51% 160/313 [00:03<00:03, 47.03it/s]\u001b[A\n",
            "Validation DataLoader 0:  58% 180/313 [00:04<00:02, 44.78it/s]\u001b[A\n",
            "Validation DataLoader 0:  64% 200/313 [00:04<00:02, 43.74it/s]\u001b[A\n",
            "Validation DataLoader 0:  70% 220/313 [00:05<00:02, 41.84it/s]\u001b[A\n",
            "Validation DataLoader 0:  77% 240/313 [00:05<00:01, 41.01it/s]\u001b[A\n",
            "Validation DataLoader 0:  83% 260/313 [00:06<00:01, 40.21it/s]\u001b[A\n",
            "Validation DataLoader 0:  89% 280/313 [00:07<00:00, 39.26it/s]\u001b[A\n",
            "Validation DataLoader 0:  96% 300/313 [00:07<00:00, 38.36it/s]\u001b[A\n",
            "Epoch 6: 100% 1563/1563 [01:17<00:00, 20.10it/s, v_num=p3xj, train/loss_step=2.400, valid/loss_step=2.430, valid/loss_epoch=2.430, valid/acc_epoch=0.0996, valid/f1_epoch=0.0996, train/loss_epoch=2.440, train/acc_epoch=0.0956, train/f1_epoch=0.0956]\n",
            "Epoch 6: 100% 1563/1563 [01:17<00:00, 20.10it/s, v_num=p3xj, train/loss_step=2.400, valid/loss_step=2.430, valid/loss_epoch=2.430, valid/acc_epoch=0.0996, valid/f1_epoch=0.0996, train/loss_epoch=2.430, train/acc_epoch=0.096, train/f1_epoch=0.096]  `Trainer.fit` stopped: `max_epochs=7` reached.\n",
            "Epoch 6: 100% 1563/1563 [01:18<00:00, 19.80it/s, v_num=p3xj, train/loss_step=2.400, valid/loss_step=2.430, valid/loss_epoch=2.430, valid/acc_epoch=0.0996, valid/f1_epoch=0.0996, train/loss_epoch=2.430, train/acc_epoch=0.096, train/f1_epoch=0.096]\n",
            "\u001b[34m\u001b[1mwandb\u001b[0m: Waiting for W&B process to finish... \u001b[32m(success).\u001b[0m\n",
            "\u001b[34m\u001b[1mwandb\u001b[0m: \n",
            "\u001b[34m\u001b[1mwandb\u001b[0m: Run history:\n",
            "\u001b[34m\u001b[1mwandb\u001b[0m:               epoch ▁▁▁▁▁▁▂▂▂▂▂▂▃▃▃▃▃▅▅▅▅▅▅▆▆▆▆▆▆▇▇▇▇▇██████\n",
            "\u001b[34m\u001b[1mwandb\u001b[0m:     train/acc_epoch ▄██▇▃▁▅\n",
            "\u001b[34m\u001b[1mwandb\u001b[0m:      train/f1_epoch ▄██▇▃▁▅\n",
            "\u001b[34m\u001b[1mwandb\u001b[0m:    train/loss_epoch ▁▄▄▆▂█▇\n",
            "\u001b[34m\u001b[1mwandb\u001b[0m:     train/loss_step ▆▅▅▅▄▃▅▃▇▆▄▃▆▁▅▃▇▆▇▆▇▃▆▄▃█▄▄▅▄▇▃▇▂▄▅▃▁▄▅\n",
            "\u001b[34m\u001b[1mwandb\u001b[0m: trainer/global_step ▁▁▁▁▁▁▁▁▁▁▁▁▁▂▂▂▂▅▂▂▂▂▂▆▂▂▂▂▂▂▂▂▂▂█▂▂▃▃▃\n",
            "\u001b[34m\u001b[1mwandb\u001b[0m:     valid/acc_epoch ▁▅▁▆▂▃█\n",
            "\u001b[34m\u001b[1mwandb\u001b[0m:      valid/f1_epoch ▁▅▁▆▂▃█\n",
            "\u001b[34m\u001b[1mwandb\u001b[0m:    valid/loss_epoch ▁▄▄▆▂█▇\n",
            "\u001b[34m\u001b[1mwandb\u001b[0m:     valid/loss_step ▅▄▄▄▆▃▄▅▅▃▄▂▃▂▆█▃▆▄▅▃▃▂▄▄▄▄▄▄▅▂▂▄▁▅▄▅▂▄▅\n",
            "\u001b[34m\u001b[1mwandb\u001b[0m: \n",
            "\u001b[34m\u001b[1mwandb\u001b[0m: Run summary:\n",
            "\u001b[34m\u001b[1mwandb\u001b[0m:               epoch 6\n",
            "\u001b[34m\u001b[1mwandb\u001b[0m:     train/acc_epoch 0.09596\n",
            "\u001b[34m\u001b[1mwandb\u001b[0m:      train/f1_epoch 0.09596\n",
            "\u001b[34m\u001b[1mwandb\u001b[0m:    train/loss_epoch 2.4325\n",
            "\u001b[34m\u001b[1mwandb\u001b[0m:     train/loss_step 2.35849\n",
            "\u001b[34m\u001b[1mwandb\u001b[0m: trainer/global_step 10940\n",
            "\u001b[34m\u001b[1mwandb\u001b[0m:     valid/acc_epoch 0.0996\n",
            "\u001b[34m\u001b[1mwandb\u001b[0m:      valid/f1_epoch 0.0996\n",
            "\u001b[34m\u001b[1mwandb\u001b[0m:    valid/loss_epoch 2.4325\n",
            "\u001b[34m\u001b[1mwandb\u001b[0m:     valid/loss_step 2.4325\n",
            "\u001b[34m\u001b[1mwandb\u001b[0m: \n",
            "\u001b[34m\u001b[1mwandb\u001b[0m: 🚀 View run \u001b[33mresnet50_compiled_reduce-overhead\u001b[0m at: \u001b[34m\u001b[4mhttps://wandb.ai/wako/Lightning_2_dot_zero/runs/989ip3xj\u001b[0m\n",
            "\u001b[34m\u001b[1mwandb\u001b[0m: Synced 5 W&B file(s), 0 media file(s), 0 artifact file(s) and 0 other file(s)\n",
            "\u001b[34m\u001b[1mwandb\u001b[0m: Find logs at: \u001b[35m\u001b[1m./wandb/run-20230319_082349-989ip3xj/logs\u001b[0m\n",
            "Train Completed\n"
          ]
        }
      ]
    },
    {
      "cell_type": "code",
      "source": [],
      "metadata": {
        "id": "q__HesSPA7Qy"
      },
      "execution_count": null,
      "outputs": []
    }
  ]
}